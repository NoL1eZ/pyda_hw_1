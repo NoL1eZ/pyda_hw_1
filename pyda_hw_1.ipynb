{
 "cells": [
  {
   "cell_type": "markdown",
   "id": "4b23011d-9cab-4ad5-93c7-45717a6023a5",
   "metadata": {},
   "source": [
    "Задание 1\n",
    "Даны 2 переменных, в которых хранятся строки произвольной длины: phrase_1 и phrase_2.\n",
    "Напишите код, который проверяет какая из этих строк длиннее."
   ]
  },
  {
   "cell_type": "code",
   "execution_count": 2,
   "id": "d7ae973a-77b0-408e-9d4a-14b678847111",
   "metadata": {},
   "outputs": [
    {
     "name": "stdout",
     "output_type": "stream",
     "text": [
      "Фраза 1 длиннее фразы 2\n"
     ]
    }
   ],
   "source": [
    "phrase_1 = 'Насколько проще было бы писать программы, если бы не заказчики'\n",
    "phrase_2 = '640Кб должно хватить для любых задач. Билл Гейтс (по легенде)'\n",
    "if len(phrase_1) > len(phrase_2):\n",
    "    print('Фраза 1 длиннее фразы 2')\n",
    "elif len(phrase_2) > len(phrase_1):\n",
    "    print('Фраза 2 длиннее фразы 1')\n",
    "else:\n",
    "    print('Фразы равной длины')\n",
    "    "
   ]
  },
  {
   "cell_type": "markdown",
   "id": "5cdfaf65-ae79-46d2-9628-35a1ccea434d",
   "metadata": {},
   "source": [
    "Задание 2\n",
    "Дана переменная, в которой хранится число (год). Необходимо написать программу, которая выведет, является ли данный год високосным или обычным."
   ]
  },
  {
   "cell_type": "code",
   "execution_count": 13,
   "id": "cfa39ae5-1c76-40e6-8c3f-ef499c750220",
   "metadata": {},
   "outputs": [
    {
     "name": "stdout",
     "output_type": "stream",
     "text": [
      "Високосный год\n"
     ]
    }
   ],
   "source": [
    "year = 2020\n",
    "if year % 4 == 0:\n",
    "    print('Високосный год')\n",
    "else:\n",
    "    print('Обычный год')"
   ]
  },
  {
   "cell_type": "markdown",
   "id": "dc01111d-1fe3-406b-959d-44f4b80bf556",
   "metadata": {},
   "source": [
    "Задание 4\n",
    "Вам нужно написать программу для подбора упаковок по размерам товара. Размеры (ширина, длина, высота) хранятся в переменных (в сантиметрах):\n",
    "\n",
    "Используйте следующие правила:\n",
    "\n",
    "если каждое из трех измерений менее или равно 15 сантиметрам, то выведите на экран \"Коробка №1\";\n",
    "если хотя бы одно из измерений больше 2 метров, то выводите \"Упаковка для лыж\";\n",
    "если хотя бы одно из измерений больше 15 сантиметров, но менее 50 сантиметров, то выводите \"Коробка №2\";\n",
    "во всех остальных случаях выводите \"Коробка №3\"."
   ]
  },
  {
   "cell_type": "code",
   "execution_count": 18,
   "id": "416558f5-dba2-45c1-a1cf-50204e59ff82",
   "metadata": {},
   "outputs": [
    {
     "name": "stdout",
     "output_type": "stream",
     "text": [
      "Коробка №3\n"
     ]
    }
   ],
   "source": [
    "width = 15\n",
    "length = 55\n",
    "height = 15\n",
    "\n",
    "if width <= 15 and length <= 15 and height <= 15:\n",
    "    print('Коробка №1')\n",
    "elif width > 2000 and length > 2000 and height > 2000:\n",
    "    print('Упаковка для лыж')\n",
    "elif 15 > width <= 50 and 15 > length <= 50 and 15 > height <= 50:\n",
    "    print('Коробка №2')\n",
    "else:\n",
    "    print('Коробка №3')"
   ]
  },
  {
   "cell_type": "markdown",
   "id": "e1509f62-6db2-42a8-b17c-e6b72f2795a2",
   "metadata": {},
   "source": [
    "Задание 5 \n",
    "Дана переменная, в которой хранится шестизначное число (номер проездного билета). Напишите программу, которая будет определять, является ли данный билет \"счастливым\". Билет считается счастливым, если сумма первых трех цифр совпадает с суммой последних трех цифр номера."
   ]
  },
  {
   "cell_type": "code",
   "execution_count": 26,
   "id": "ccfeed44-4833-4108-9900-32bc209c8390",
   "metadata": {},
   "outputs": [
    {
     "name": "stdout",
     "output_type": "stream",
     "text": [
      "не счастливый\n"
     ]
    }
   ],
   "source": [
    "number = 123456\n",
    "\n",
    "a, s, d, f, g, x = str(number)\n",
    "\n",
    "if int(a) + int(s) + int(d) == int(f) + int(g) + int(x):\n",
    "    print('счастливый')\n",
    "else:\n",
    "    print('не счастливый')\n"
   ]
  },
  {
   "cell_type": "code",
   "execution_count": null,
   "id": "367c45c8-5223-41e1-a445-89ae1f4e10aa",
   "metadata": {},
   "outputs": [],
   "source": []
  }
 ],
 "metadata": {
  "kernelspec": {
   "display_name": "Python 3 (ipykernel)",
   "language": "python",
   "name": "python3"
  },
  "language_info": {
   "codemirror_mode": {
    "name": "ipython",
    "version": 3
   },
   "file_extension": ".py",
   "mimetype": "text/x-python",
   "name": "python",
   "nbconvert_exporter": "python",
   "pygments_lexer": "ipython3",
   "version": "3.8.9"
  }
 },
 "nbformat": 4,
 "nbformat_minor": 5
}
